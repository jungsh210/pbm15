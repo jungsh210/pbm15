{
  "nbformat": 4,
  "nbformat_minor": 0,
  "metadata": {
    "colab": {
      "private_outputs": true,
      "provenance": [],
      "collapsed_sections": [],
      "authorship_tag": "ABX9TyOaj92RlE2vqisn0mVgrk0G",
      "include_colab_link": true
    },
    "kernelspec": {
      "name": "python3",
      "display_name": "Python 3"
    },
    "language_info": {
      "name": "python"
    },
    "accelerator": "GPU",
    "gpuClass": "standard"
  },
  "cells": [
    {
      "cell_type": "markdown",
      "metadata": {
        "id": "view-in-github",
        "colab_type": "text"
      },
      "source": [
        "<a href=\"https://colab.research.google.com/github/jungsh210/pbm15/blob/main/notebook/chap09_CNN_intro.ipynb\" target=\"_parent\"><img src=\"https://colab.research.google.com/assets/colab-badge.svg\" alt=\"Open In Colab\"/></a>"
      ]
    },
    {
      "cell_type": "markdown",
      "source": [
        "#CNN\n",
        "- Conv2D\n",
        "- MaxPooling2D\n",
        "\n",
        "## mnist model"
      ],
      "metadata": {
        "id": "1t7VYnXSGg60"
      }
    },
    {
      "cell_type": "code",
      "execution_count": null,
      "metadata": {
        "id": "845BfHlmGgHM"
      },
      "outputs": [],
      "source": [
        "# Conv2D & MaxPooling2D\n",
        "\n",
        "import tensorflow as tf\n",
        "from tensorflow.keras import layers\n",
        "\n",
        "\n",
        "input_shape = (4, 28, 28, 3)  #(batchsize, 가로, 세로, RGB)\n",
        "input_shape[1:]\n",
        "x = tf.random.normal(input_shape)\n",
        "y = tf.keras.layers.Conv2D(2, 3, activation='relu', input_shape=input_shape[1:])(x)\n",
        "print(y.shape)\n",
        "\n",
        "# padding = 'same'\n",
        "x = tf.random.normal(input_shape)\n",
        "y = layers.Conv2D(2, 3, activation='relu', input_shape=input_shape[1:])(x)\n",
        "\n",
        "print(y.shape)\n",
        "\n",
        "x = tf.random.normal(input_shape)\n",
        "y = layers.Conv2D(32, 3, activation='relu',input_shape=input_shape[1:] ,padding=\"same\")(x)\n",
        "print(y.shape)\n",
        "\n",
        "input_shape = (100, 64, 64, 3)\n",
        "x = tf.random.normal(input_shape)\n",
        "y = layers.Conv2D(128, 5, activation='relu',input_shape=input_shape[1:] ,padding=\"same\")(x)\n",
        "print(y.shape)\n",
        "\n",
        "#pooling\n",
        "\n",
        "x = tf.constant([[1., 2., 3.],     [4., 5., 6.],     [7., 8., 9.]])\n",
        "x = tf.reshape(x, [1, 3, 3, 1])\n",
        "max_pool_2d = tf.keras.layers.MaxPooling2D(pool_size=(2, 2), \n",
        "                                           strides=(1, 1), padding='valid')\n",
        "print(max_pool_2d(x))\n",
        "\n",
        "# padding = 'same'\n",
        "x = tf.constant([[1., 2., 3.],     [4., 5., 6.],     [7., 8., 9.]])\n",
        "x = tf.reshape(x, [1, 3, 3, 1])\n",
        "max_pool_2d = tf.keras.layers.MaxPooling2D(pool_size=(2, 2), \n",
        "                                           strides=(1, 1), padding='same')\n",
        "print(max_pool_2d(x))"
      ]
    },
    {
      "cell_type": "markdown",
      "source": [
        "## CNN - mnist"
      ],
      "metadata": {
        "id": "p7QuMuHsHKg0"
      }
    },
    {
      "cell_type": "code",
      "source": [
        "import tensorflow as tf\n",
        "from tensorflow.keras import datasets, layers, models\n",
        "import keras\n",
        "\n",
        "(train_images, train_labels), (test_images, test_labels) = datasets.mnist.load_data()\n",
        "train_images = train_images.reshape((60000, 28, 28, 1))\n",
        "test_images = test_images.reshape((10000, 28, 28, 1))\n",
        "\n",
        "print(train_images.shape, train_labels.shape)\n",
        "# 픽셀 값을 0~1 사이로 정규화한다. \n"
      ],
      "metadata": {
        "id": "z2DlRd9aHOPt"
      },
      "execution_count": null,
      "outputs": []
    },
    {
      "cell_type": "code",
      "source": [
        "train_images, test_images = train_images / 255.0, test_images / 255.0"
      ],
      "metadata": {
        "id": "0aI79hHKHd4B"
      },
      "execution_count": null,
      "outputs": []
    },
    {
      "cell_type": "code",
      "source": [
        "# model\n",
        "model = models.Sequential()\n",
        "\n",
        "model.add(layers.Conv2D(32, (3, 3), activation='relu', input_shape=(28, 28, 1)))\n",
        "model.add(layers.MaxPooling2D((2, 2)))\n",
        "model.add(layers.Conv2D(64, (3, 3), activation='relu'))\n",
        "model.add(layers.MaxPooling2D((2, 2)))\n",
        "model.add(layers.Conv2D(64, (3, 3), activation='relu'))\n",
        "\n",
        "model.add(layers.Flatten())\n",
        "model.add(layers.Dense(64, activation='relu'))\n",
        "model.add(layers.Dense(10, activation='softmax'))\n",
        "\n",
        "print(model.summary())"
      ],
      "metadata": {
        "id": "tDJWjo48HkR0"
      },
      "execution_count": null,
      "outputs": []
    },
    {
      "cell_type": "code",
      "source": [
        "keras.utils.plot_model(model, show_shapes=True)"
      ],
      "metadata": {
        "id": "rQbUstAoHnHL"
      },
      "execution_count": null,
      "outputs": []
    },
    {
      "cell_type": "code",
      "source": [
        "model.compile(optimizer='adam',\n",
        "              loss='sparse_categorical_crossentropy',\n",
        "              metrics=['accuracy'])"
      ],
      "metadata": {
        "id": "wSNMe7OPH97p"
      },
      "execution_count": null,
      "outputs": []
    },
    {
      "cell_type": "code",
      "source": [
        "model.fit(train_images, train_labels, epochs=5)\n",
        "\n",
        "#\n",
        "# [DIY] test 데이터에 모델 적용하고 정확도 계산\n",
        "#\n",
        "\n",
        "model.evaluate(test_images, test_labels)"
      ],
      "metadata": {
        "id": "bpdoTqtKHsuz"
      },
      "execution_count": null,
      "outputs": []
    }
  ]
}