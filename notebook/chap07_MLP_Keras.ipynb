{
  "nbformat": 4,
  "nbformat_minor": 0,
  "metadata": {
    "colab": {
      "provenance": [],
      "collapsed_sections": [],
      "include_colab_link": true
    },
    "kernelspec": {
      "name": "python3",
      "display_name": "Python 3"
    },
    "language_info": {
      "name": "python"
    },
    "accelerator": "GPU"
  },
  "cells": [
    {
      "cell_type": "markdown",
      "metadata": {
        "id": "view-in-github",
        "colab_type": "text"
      },
      "source": [
        "<a href=\"https://colab.research.google.com/github/jungsh210/pbm15/blob/main/notebook/chap07_MLP_Keras.ipynb\" target=\"_parent\"><img src=\"https://colab.research.google.com/assets/colab-badge.svg\" alt=\"Open In Colab\"/></a>"
      ]
    },
    {
      "cell_type": "markdown",
      "source": [
        "#pdm15"
      ],
      "metadata": {
        "id": "a4-wZT686ilg"
      }
    },
    {
      "cell_type": "markdown",
      "source": [
        "# MLP: Keras"
      ],
      "metadata": {
        "id": "ojKdNQSc6G2I"
      }
    },
    {
      "cell_type": "markdown",
      "source": [
        "## mini-batch 구현"
      ],
      "metadata": {
        "id": "Cqxjbj3S6PkI"
      }
    },
    {
      "cell_type": "code",
      "execution_count": 1,
      "metadata": {
        "colab": {
          "base_uri": "https://localhost:8080/"
        },
        "id": "cEVL9aSt6BGk",
        "outputId": "22a9e5e9-0a71-4343-cc06-0785009fac3a"
      },
      "outputs": [
        {
          "output_type": "stream",
          "name": "stdout",
          "text": [
            "Downloading data from https://storage.googleapis.com/tensorflow/tf-keras-datasets/mnist.npz\n",
            "11493376/11490434 [==============================] - 0s 0us/step\n",
            "11501568/11490434 [==============================] - 0s 0us/step\n",
            "(60000, 28, 28) (60000,)\n",
            "[5 0 4 1 9 2 1 3 1 4]\n",
            "(10000, 28, 28) (10000,)\n",
            "[7 2 1 0 4 1 4 9 5 9]\n",
            "[37611 11666  6697 17971 37874  1318  2868 42820 13628 10052  2313 16075]\n"
          ]
        },
        {
          "output_type": "execute_result",
          "data": {
            "text/plain": [
              "((12, 28, 28), (12,))"
            ]
          },
          "metadata": {},
          "execution_count": 1
        }
      ],
      "source": [
        "import numpy as np\n",
        "import tensorflow as tf\n",
        "\n",
        "# 데이터를 학습 데이터와 테스트 데이터로 나눈다. \n",
        "(x_train, y_train), (x_test, y_test) = tf.keras.datasets.mnist.load_data()\n",
        "\n",
        "print(x_train.shape,y_train.shape)\n",
        "print(y_train[:10])\n",
        "print(x_test.shape,y_test.shape)\n",
        "print(y_test[:10])\n",
        "\n",
        "data_size = x_train.shape[0]\n",
        "batch_size = 12\t# 배치 크기\n",
        "\n",
        "selected = np.random.choice(data_size, batch_size)\n",
        "print(selected)\n",
        "x_batch = x_train[selected]\n",
        "y_batch = y_train[selected]\n",
        "x_batch.shape,y_batch.shape\n"
      ]
    },
    {
      "cell_type": "markdown",
      "source": [
        "## mini-batch: XOR using MLP"
      ],
      "metadata": {
        "id": "3aVYISCg7YQw"
      }
    },
    {
      "cell_type": "code",
      "source": [
        "import numpy as np\n",
        "# XOR solution by MLP\n",
        "\n",
        "# 시그모이드 함수\n",
        "def actf(x):\n",
        "\treturn 1/(1+np.exp(-x))\n",
        "\n",
        "# 시그모이드 함수의 미분치\n",
        "def actf_deriv(x):\n",
        "\t    return x*(1-x)\n",
        "\n",
        "# 입력유닛의 개수, 은닉유닛의 개수, 출력유닛의 개수\n",
        "inputs, hiddens, outputs = 2, 2, 1\n",
        "learning_rate = 0.5\n",
        "\n",
        "# 훈련 입력과 출력\n",
        "X = np.array([[0, 0], [0, 1], [1, 0], [1, 1]])\n",
        "T = np.array([[0], [1], [1], [0]])\n",
        "\n",
        "# 가중치를 –1.0에서 1.0 사이의 난수로 초기화한다.\n",
        "W1 = 2*np.random.random((inputs, hiddens))-1   \n",
        "W2 = 2*np.random.random((hiddens, outputs))-1  \n",
        "B1 = np.zeros(hiddens)   \n",
        "B2 = np.zeros(outputs)   \n",
        "\n",
        "# 순방향 전파 계산\n",
        "def predict(x):\n",
        "        layer0 = x\t\t\t# 입력을 layer0에 대입한다. \n",
        "        Z1 = np.dot(layer0, W1)+B1\t# 행렬의 곱을 계산한다. \n",
        "        layer1 = actf(Z1)\t\t# 활성화 함수를 적용한다. \n",
        "        Z2 = np.dot(layer1, W2)+B2\t# 행렬의 곱을 계산한다. \n",
        "        layer2 = actf(Z2)\t\t# 활성화 함수를 적용한다. \n",
        "        return layer0, layer1, layer2\n",
        "    \n",
        "# 역방향 전파 계산\n",
        "def fit():\n",
        "    global W1, W2, B1, B2\n",
        "    for i in range(60000):\n",
        "            layer0, layer1, layer2 = predict(X) # input-batch-size = 4\n",
        "            layer2_error = layer2-T\n",
        "\n",
        "            layer2_delta = layer2_error*actf_deriv(layer2)\n",
        "            layer1_error = np.dot(layer2_delta, W2.T)\n",
        "            layer1_delta = layer1_error*actf_deriv(layer1)\n",
        "            \n",
        "            W2 += -learning_rate*np.dot(layer1.T, layer2_delta)/4.0 # 4개의 입력에 대한 평균 기울기\n",
        "            W1 += -learning_rate*np.dot(layer0.T, layer1_delta)/4.0\n",
        "            B2 += -learning_rate*np.sum(layer2_delta, axis=0)/4.0\n",
        "            B1 += -learning_rate*np.sum(layer1_delta, axis=0)/4.0\n",
        "\n",
        "def test():\n",
        "    for x, y in zip(X, T):\n",
        "        x = np.reshape(x, (1, -1))\t\t# 하나여도 2차원 형태이어야 한다.\n",
        "        layer0, layer1, layer2 = predict(x)\n",
        "        print(x, y, layer2)\n",
        "\n",
        "fit()\n",
        "test()\n",
        "W1,W2\n",
        "B1,B2\n"
      ],
      "metadata": {
        "colab": {
          "base_uri": "https://localhost:8080/"
        },
        "id": "gV0PVXPJ7dW5",
        "outputId": "6da7de05-922b-4f76-e9b3-1acff1428039"
      },
      "execution_count": null,
      "outputs": [
        {
          "output_type": "stream",
          "name": "stdout",
          "text": [
            "[[0 0]] [0] [[0.01359617]]\n",
            "[[0 1]] [1] [[0.98757219]]\n",
            "[[1 0]] [1] [[0.49960863]]\n",
            "[[1 1]] [0] [[0.50029576]]\n"
          ]
        },
        {
          "output_type": "execute_result",
          "data": {
            "text/plain": [
              "(array([-0.92725585,  3.21677321]), array([0.14577521]))"
            ]
          },
          "metadata": {},
          "execution_count": 3
        }
      ]
    },
    {
      "cell_type": "markdown",
      "source": [
        "---\n",
        "# Tensorflow-Keras\n",
        "---"
      ],
      "metadata": {
        "id": "KueoSO036rAA"
      }
    },
    {
      "cell_type": "markdown",
      "source": [
        "## MLP XQR using Keras\n",
        "- 1-은닉층\n",
        "- 2-은닉층"
      ],
      "metadata": {
        "id": "dgYtnEG06yHH"
      }
    },
    {
      "cell_type": "code",
      "source": [
        "import numpy as np\n",
        "import tensorflow as tf\n",
        "\n",
        "model = tf.keras.models.Sequential()\n",
        "\n",
        "model.add(tf.keras.layers.Dense(units=2, input_shape=(2,), activation='sigmoid')) #①\n",
        "model.add(tf.keras.layers.Dense(units=1,  activation='sigmoid')) #②\t\t\n",
        "model.compile(loss='mean_squared_error', \n",
        "              optimizer=tf.keras.optimizers.SGD(lr=0.3)) \n",
        "\n",
        "model.summary()\n",
        " \n",
        "X = np.array([[0, 0],[0, 1],[1, 0],[1, 1]])\n",
        "y = np.array([[0], [1], [1], [0]])\n",
        "\n",
        "# model.fit(X, y, batch_size=1, epochs=10000, verbose = 2) # verbose = 2 ------> 중간 과정 출력 x\n",
        "model.fit(X, y, batch_size=1, epochs=10000, verbose = 0)\n",
        "\n",
        "print(model.predict(X))\n",
        "\n",
        "# [[0.0156148 ]\n",
        "#  [0.98538893]\n",
        "#  [0.9820687 ]\n",
        "#  [0.01398213]]"
      ],
      "metadata": {
        "colab": {
          "base_uri": "https://localhost:8080/"
        },
        "id": "mNQmvRhV7IK3",
        "outputId": "b674c6fb-0a01-46ee-8abe-5c7517dbbc77"
      },
      "execution_count": 4,
      "outputs": [
        {
          "output_type": "stream",
          "name": "stdout",
          "text": [
            "Model: \"sequential_3\"\n",
            "_________________________________________________________________\n",
            " Layer (type)                Output Shape              Param #   \n",
            "=================================================================\n",
            " dense_7 (Dense)             (None, 2)                 6         \n",
            "                                                                 \n",
            " dense_8 (Dense)             (None, 1)                 3         \n",
            "                                                                 \n",
            "=================================================================\n",
            "Total params: 9\n",
            "Trainable params: 9\n",
            "Non-trainable params: 0\n",
            "_________________________________________________________________\n",
            "[[0.01242618]\n",
            " [0.9835127 ]\n",
            " [0.496859  ]\n",
            " [0.49768123]]\n"
          ]
        }
      ]
    },
    {
      "cell_type": "code",
      "source": [
        "# 2-은닉층\n",
        "import numpy as np\n",
        "import tensorflow as tf\n",
        "\n",
        "model = tf.keras.models.Sequential()\n",
        "\n",
        "model.add(tf.keras.layers.Dense(units=2, input_shape=(2,), activation='sigmoid')) #①\n",
        "model.add(tf.keras.layers.Dense(units=4, activation='sigmoid')) #\n",
        "model.add(tf.keras.layers.Dense(units=1,  activation='sigmoid')) #\t\t\n",
        "model.compile(loss='mean_squared_error', \n",
        "              optimizer=tf.keras.optimizers.SGD(lr=0.3)) \n",
        "\n",
        "model.summary()\n",
        "\n",
        "X = np.array([[0, 0],[0, 1],[1, 0],[1, 1]])\n",
        "y = np.array([[0], [1], [1], [0]])\n",
        "\n",
        "model.fit(X, y, batch_size=1, epochs=10000, verbose = 0) # verbose = 0 -----> 결과값만 보여줌. 화면 출력 X , 실행 결과가 빨리 나옴\n",
        "\n",
        "print(model.predict(X))\n",
        "\n",
        "# [[0.00956685]\n",
        "#  [0.9900732 ]\n",
        "#  [0.9919224 ]\n",
        "#  [0.00822851]]"
      ],
      "metadata": {
        "colab": {
          "base_uri": "https://localhost:8080/"
        },
        "id": "neMIKOjQ9OB3",
        "outputId": "3698d5bd-dc76-465c-c077-e1323a52c4b6"
      },
      "execution_count": 3,
      "outputs": [
        {
          "output_type": "stream",
          "name": "stdout",
          "text": [
            "Model: \"sequential_2\"\n",
            "_________________________________________________________________\n",
            " Layer (type)                Output Shape              Param #   \n",
            "=================================================================\n",
            " dense_4 (Dense)             (None, 2)                 6         \n",
            "                                                                 \n",
            " dense_5 (Dense)             (None, 4)                 12        \n",
            "                                                                 \n",
            " dense_6 (Dense)             (None, 1)                 5         \n",
            "                                                                 \n",
            "=================================================================\n",
            "Total params: 23\n",
            "Trainable params: 23\n",
            "Non-trainable params: 0\n",
            "_________________________________________________________________\n"
          ]
        },
        {
          "output_type": "stream",
          "name": "stderr",
          "text": [
            "/usr/local/lib/python3.7/dist-packages/keras/optimizer_v2/gradient_descent.py:102: UserWarning: The `lr` argument is deprecated, use `learning_rate` instead.\n",
            "  super(SGD, self).__init__(name, **kwargs)\n"
          ]
        },
        {
          "output_type": "stream",
          "name": "stdout",
          "text": [
            "[[0.01742491]\n",
            " [0.49651343]\n",
            " [0.98388636]\n",
            " [0.497176  ]]\n"
          ]
        }
      ]
    },
    {
      "cell_type": "markdown",
      "source": [
        "## Mnist model using Keras\n",
        "1. Sequential model\n",
        "2. Functional model\n",
        "3. Subclassing model\n"
      ],
      "metadata": {
        "id": "eE5a7rI697mW"
      }
    },
    {
      "cell_type": "markdown",
      "source": [
        "### Data loading "
      ],
      "metadata": {
        "id": "2oz18ARk-Y1P"
      }
    },
    {
      "cell_type": "code",
      "source": [
        "import matplotlib.pyplot as plt\n",
        "import tensorflow as tf\n",
        "from tensorflow.keras import layers\n",
        "from tensorflow.keras import models\n",
        "import numpy as np\n",
        "\n",
        "(train_images, train_labels), (test_images, test_labels)\t= tf.keras.datasets.mnist.load_data()\n",
        "\n",
        "print(train_images.shape)\n",
        "\n",
        "print(train_labels)\n",
        "print(test_images.shape)\n",
        "\n",
        "plt.imshow(train_images[0], cmap=\"Greys\")\n",
        "plt.show()"
      ],
      "metadata": {
        "colab": {
          "base_uri": "https://localhost:8080/",
          "height": 320
        },
        "id": "OwfkH66L-eke",
        "outputId": "5e0c711a-491f-4744-99d8-dcba449a97d4"
      },
      "execution_count": 12,
      "outputs": [
        {
          "output_type": "stream",
          "name": "stdout",
          "text": [
            "(60000, 28, 28)\n",
            "[5 0 4 ... 5 6 8]\n",
            "(10000, 28, 28)\n"
          ]
        },
        {
          "output_type": "display_data",
          "data": {
            "text/plain": [
              "<Figure size 432x288 with 1 Axes>"
            ],
            "image/png": "[encoded data removed]"
          },
          "metadata": {
            "needs_background": "light"
          }
        }
      ]
    },
    {
      "cell_type": "markdown",
      "source": [
        "### Data preprocessing\n",
        "- Reshape\n",
        "- Normalization\n",
        "- One-hot encoding"
      ],
      "metadata": {
        "id": "cmEXiFvg_ABf"
      }
    },
    {
      "cell_type": "code",
      "source": [
        "# dataset: train, test\n",
        "#\n",
        "train_images = train_images.reshape((60000, 784))\n",
        "train_images = train_images.astype('float32') / 255.0\n",
        "\n",
        "test_images = test_images.reshape((10000, 784))\n",
        "test_images = test_images.astype('float32') / 255.0\n",
        "\n",
        "train_labels = tf.keras.utils.to_categorical(train_labels)\n",
        "test_labels = tf.keras.utils.to_categorical(test_labels)\n",
        "\n",
        "print(train_images.shape, train_labels.shape)"
      ],
      "metadata": {
        "colab": {
          "base_uri": "https://localhost:8080/"
        },
        "id": "byFGwdXq_L7e",
        "outputId": "2a6be2d4-8220-4a6f-ed06-5fbe56e34ea9"
      },
      "execution_count": 13,
      "outputs": [
        {
          "output_type": "stream",
          "name": "stdout",
          "text": [
            "(60000, 784) (60000, 10)\n"
          ]
        }
      ]
    },
    {
      "cell_type": "markdown",
      "source": [
        "# 1. Sequential model"
      ],
      "metadata": {
        "id": "BWMSSFhv_4CX"
      }
    },
    {
      "cell_type": "code",
      "source": [
        "# Model\n",
        "\n",
        "model = models.Sequential()\n",
        "\n",
        "model.add(layers.Dense(512, activation='relu', input_shape=(784,)))\n",
        "model.add(layers.Dense(10, activation='sigmoid'))\n",
        "\n",
        "model.compile(optimizer='rmsprop',\n",
        "                loss='mse',\n",
        "                metrics=['accuracy']) "
      ],
      "metadata": {
        "id": "LPgzaczG_4pd"
      },
      "execution_count": 14,
      "outputs": []
    },
    {
      "cell_type": "code",
      "source": [
        "# Training with history\n",
        "history = model.fit(train_images, train_labels, epochs=5, batch_size=128, verbose = 2)\n",
        "\n",
        "# Training graph\n",
        "loss = history.history['loss']\n",
        "acc = history.history['accuracy']\n",
        "epochs = range(1, len(loss)+1)\n",
        "\n",
        "plt.plot(epochs, loss, 'b', label='Training Loss')\n",
        "plt.plot(epochs, acc, 'r', label='Accuracy')\n",
        "plt.xlabel('epochs')\n",
        "plt.ylabel('loss/acc')\n",
        "plt.show()"
      ],
      "metadata": {
        "colab": {
          "base_uri": "https://localhost:8080/",
          "height": 463
        },
        "id": "lRmdqfQKANve",
        "outputId": "eadae6c2-ae42-46d9-9e72-169728f65c85"
      },
      "execution_count": 15,
      "outputs": [
        {
          "output_type": "stream",
          "name": "stdout",
          "text": [
            "Epoch 1/5\n",
            "469/469 - 28s - loss: 0.0160 - accuracy: 0.9146 - 28s/epoch - 60ms/step\n",
            "Epoch 2/5\n",
            "469/469 - 1s - loss: 0.0063 - accuracy: 0.9654 - 1s/epoch - 2ms/step\n",
            "Epoch 3/5\n",
            "469/469 - 1s - loss: 0.0044 - accuracy: 0.9769 - 1s/epoch - 2ms/step\n",
            "Epoch 4/5\n",
            "469/469 - 1s - loss: 0.0034 - accuracy: 0.9830 - 1s/epoch - 2ms/step\n",
            "Epoch 5/5\n",
            "469/469 - 1s - loss: 0.0028 - accuracy: 0.9860 - 1s/epoch - 2ms/step\n"
          ]
        },
        {
          "output_type": "display_data",
          "data": {
            "text/plain": [
              "<Figure size 432x288 with 1 Axes>"
            ],
            "image/png": "[encoded data removed]"
          },
          "metadata": {
            "needs_background": "light"
          }
        }
      ]
    },
    {
      "cell_type": "code",
      "source": [
        "# test\n",
        "test_loss, test_acc = model.evaluate(test_images, test_labels)\n",
        "print('테스트 정확도:', test_acc)"
      ],
      "metadata": {
        "colab": {
          "base_uri": "https://localhost:8080/"
        },
        "id": "hm3QepVvBtV-",
        "outputId": "cee4d921-2256-4e2a-cee7-6107e9c62fd9"
      },
      "execution_count": 16,
      "outputs": [
        {
          "output_type": "stream",
          "name": "stdout",
          "text": [
            "313/313 [==============================] - 1s 2ms/step - loss: 0.0038 - accuracy: 0.9794\n",
            "테스트 정확도: 0.9793999791145325\n"
          ]
        }
      ]
    },
    {
      "cell_type": "code",
      "source": [
        "# Test with new image\n",
        "\n",
        "import cv2 as cv\n",
        "\n",
        "image = cv.imread('test.png', cv.IMREAD_GRAYSCALE)\n",
        "image = cv.resize(image, (28, 28))\n",
        "image = image.astype('float32')\n",
        "# plt.imshow(image.reshape(28, 28),cmap='Greys')\n",
        "# plt.show()\n",
        "image = image.reshape(1, 784)\n",
        "image = 255-image\n",
        "image /= 255.0\n",
        "\n",
        "plt.imshow(image.reshape(28, 28),cmap='Greys')\n",
        "plt.show()\n",
        "\n",
        "pred = model.predict(image.reshape(1, 784), batch_size=1)\n",
        "print(\"추정된 숫자=\", pred.argmax())\n",
        "print(np.sum(pred))"
      ],
      "metadata": {
        "colab": {
          "base_uri": "https://localhost:8080/",
          "height": 302
        },
        "id": "9a3q5hWwBwLN",
        "outputId": "7405e6fb-5d96-4f9f-c33a-c5f0149990bc"
      },
      "execution_count": 17,
      "outputs": [
        {
          "output_type": "display_data",
          "data": {
            "text/plain": [
              "<Figure size 432x288 with 1 Axes>"
            ],
            "image/png": "[encoded data removed]"
          },
          "metadata": {
            "needs_background": "light"
          }
        },
        {
          "output_type": "stream",
          "name": "stdout",
          "text": [
            "추정된 숫자= 2\n",
            "1.1537027\n"
          ]
        }
      ]
    },
    {
      "cell_type": "markdown",
      "source": [
        "## 2. Functional model"
      ],
      "metadata": {
        "id": "9I0b_UUGB_09"
      }
    },
    {
      "cell_type": "code",
      "source": [
        "#\n",
        "# Model2 - Functional\n",
        "#\n",
        "\n",
        "inputs = layers.Input(shape=(784,))\n",
        "\n",
        "x = layers.Dense(512, activation='relu')(inputs)\n",
        "output = layers.Dense(10, activation='sigmoid')(x)\n",
        "\n",
        "model = models.Model(inputs=inputs, outputs=output)\n",
        "\n",
        "model.compile(optimizer='rmsprop',\n",
        "                loss='mse',\n",
        "                metrics=['accuracy'])  "
      ],
      "metadata": {
        "id": "038SEXqLCDPW"
      },
      "execution_count": 18,
      "outputs": []
    },
    {
      "cell_type": "code",
      "source": [
        "# Training with history\n",
        "history = model.fit(train_images, train_labels, epochs=5, batch_size=128, verbose = 2)\n",
        "loss = history.history['loss']\n",
        "acc = history.history['accuracy']\n",
        "epochs = range(1, len(loss)+1)\n",
        "\n",
        "plt.plot(epochs, loss, 'b', label='Training Loss')\n",
        "plt.plot(epochs, acc, 'r', label='Accuracy')\n",
        "plt.xlabel('epochs')\n",
        "plt.ylabel('loss/acc')\n",
        "plt.show()\n",
        "\n",
        "# test\n",
        "test_loss, test_acc = model.evaluate(test_images, test_labels)\n",
        "print('테스트 정확도:', test_acc)"
      ],
      "metadata": {
        "colab": {
          "base_uri": "https://localhost:8080/",
          "height": 499
        },
        "id": "5qYeGGIbCODd",
        "outputId": "e9ac109b-85e9-4851-97a9-ef14f16a0554"
      },
      "execution_count": 19,
      "outputs": [
        {
          "output_type": "stream",
          "name": "stdout",
          "text": [
            "Epoch 1/5\n",
            "469/469 - 2s - loss: 0.0159 - accuracy: 0.9170 - 2s/epoch - 3ms/step\n",
            "Epoch 2/5\n",
            "469/469 - 1s - loss: 0.0063 - accuracy: 0.9661 - 1s/epoch - 2ms/step\n",
            "Epoch 3/5\n",
            "469/469 - 1s - loss: 0.0044 - accuracy: 0.9769 - 1s/epoch - 2ms/step\n",
            "Epoch 4/5\n",
            "469/469 - 1s - loss: 0.0034 - accuracy: 0.9821 - 1s/epoch - 2ms/step\n",
            "Epoch 5/5\n",
            "469/469 - 1s - loss: 0.0028 - accuracy: 0.9861 - 1s/epoch - 2ms/step\n"
          ]
        },
        {
          "output_type": "display_data",
          "data": {
            "text/plain": [
              "<Figure size 432x288 with 1 Axes>"
            ],
            "image/png": "[encoded data removed]"
          },
          "metadata": {
            "needs_background": "light"
          }
        },
        {
          "output_type": "stream",
          "name": "stdout",
          "text": [
            "313/313 [==============================] - 1s 2ms/step - loss: 0.0036 - accuracy: 0.9805\n",
            "테스트 정확도: 0.9804999828338623\n"
          ]
        }
      ]
    },
    {
      "cell_type": "markdown",
      "source": [
        "## 3. subclassing model"
      ],
      "metadata": {
        "id": "dJZZlsZxCl51"
      }
    },
    {
      "cell_type": "code",
      "source": [
        "#\n",
        "# Model3 - Class\n",
        "#\n",
        "\n",
        "class MnistMLP(models.Model):\n",
        "    \n",
        "    def __init__(self, num_classes):\n",
        "        super(MnistMLP, self).__init__(name='mlp')\n",
        "        self.num_classes = num_classes\n",
        "        \n",
        "        self.dense1 = layers.Dense(512, activation='relu')\n",
        "        self.dense2 = layers.Dense(10, activation='sigmoid')\n",
        "        \n",
        "    def call(self, inputs):\n",
        "        x = self.dense1(inputs)\n",
        "        return self.dense2(x)\n",
        "    \n",
        "# model (컴파일 조건 동일)\n",
        "model = MnistMLP(num_classes=10)\n",
        "\n",
        "model.compile(optimizer='rmsprop',\n",
        "                loss='mse',\n",
        "                metrics=['accuracy'])    "
      ],
      "metadata": {
        "id": "vxe8BAVyCsYV"
      },
      "execution_count": 20,
      "outputs": []
    },
    {
      "cell_type": "code",
      "source": [
        "# Training with history\n",
        "history = model.fit(train_images, train_labels, epochs=5, batch_size=128, verbose = 2)\n",
        "loss = history.history['loss']\n",
        "acc = history.history['accuracy']\n",
        "epochs = range(1, len(loss)+1)\n",
        "\n",
        "plt.plot(epochs, loss, 'b', label='Training Loss')\n",
        "plt.plot(epochs, acc, 'r', label='Accuracy')\n",
        "plt.xlabel('epochs')\n",
        "plt.ylabel('loss/acc')\n",
        "plt.show()\n",
        "\n",
        "# test\n",
        "test_loss, test_acc = model.evaluate(test_images, test_labels)\n",
        "print('테스트 정확도:', test_acc)"
      ],
      "metadata": {
        "colab": {
          "base_uri": "https://localhost:8080/",
          "height": 499
        },
        "id": "gmjsh1BxC6WV",
        "outputId": "f285c8fc-be80-445e-9d4a-0b306786d63d"
      },
      "execution_count": 21,
      "outputs": [
        {
          "output_type": "stream",
          "name": "stdout",
          "text": [
            "Epoch 1/5\n",
            "469/469 - 2s - loss: 0.0161 - accuracy: 0.9154 - 2s/epoch - 3ms/step\n",
            "Epoch 2/5\n",
            "469/469 - 1s - loss: 0.0064 - accuracy: 0.9655 - 1s/epoch - 2ms/step\n",
            "Epoch 3/5\n",
            "469/469 - 1s - loss: 0.0045 - accuracy: 0.9765 - 1s/epoch - 2ms/step\n",
            "Epoch 4/5\n",
            "469/469 - 1s - loss: 0.0035 - accuracy: 0.9826 - 1s/epoch - 2ms/step\n",
            "Epoch 5/5\n",
            "469/469 - 1s - loss: 0.0028 - accuracy: 0.9859 - 1s/epoch - 2ms/step\n"
          ]
        },
        {
          "output_type": "display_data",
          "data": {
            "text/plain": [
              "<Figure size 432x288 with 1 Axes>"
            ],
            "image/png": "[encoded data removed]"
          },
          "metadata": {
            "needs_background": "light"
          }
        },
        {
          "output_type": "stream",
          "name": "stdout",
          "text": [
            "313/313 [==============================] - 1s 2ms/step - loss: 0.0039 - accuracy: 0.9791\n",
            "테스트 정확도: 0.9790999889373779\n"
          ]
        }
      ]
    },
    {
      "cell_type": "markdown",
      "source": [
        "## Hyperparameter search\n",
        "- Gride search"
      ],
      "metadata": {
        "id": "4UwkapTJDa6e"
      }
    },
    {
      "cell_type": "code",
      "source": [
        "!pip install scikeras"
      ],
      "metadata": {
        "colab": {
          "base_uri": "https://localhost:8080/"
        },
        "id": "FRuFT29_Dq5N",
        "outputId": "3a9b9046-97f1-4a11-99b3-c940ff24625c"
      },
      "execution_count": 23,
      "outputs": [
        {
          "output_type": "stream",
          "name": "stdout",
          "text": [
            "Looking in indexes: https://pypi.org/simple, https://us-python.pkg.dev/colab-wheels/public/simple/\n",
            "Requirement already satisfied: scikeras in /usr/local/lib/python3.7/dist-packages (0.9.0)\n",
            "Requirement already satisfied: packaging>=0.21 in /usr/local/lib/python3.7/dist-packages (from scikeras) (21.3)\n",
            "Requirement already satisfied: scikit-learn>=1.0.0 in /usr/local/lib/python3.7/dist-packages (from scikeras) (1.0.2)\n",
            "Requirement already satisfied: importlib-metadata>=3 in /usr/local/lib/python3.7/dist-packages (from scikeras) (5.0.0)\n",
            "Requirement already satisfied: typing-extensions>=3.6.4 in /usr/local/lib/python3.7/dist-packages (from importlib-metadata>=3->scikeras) (4.1.1)\n",
            "Requirement already satisfied: zipp>=0.5 in /usr/local/lib/python3.7/dist-packages (from importlib-metadata>=3->scikeras) (3.8.1)\n",
            "Requirement already satisfied: pyparsing!=3.0.5,>=2.0.2 in /usr/local/lib/python3.7/dist-packages (from packaging>=0.21->scikeras) (3.0.9)\n",
            "Requirement already satisfied: threadpoolctl>=2.0.0 in /usr/local/lib/python3.7/dist-packages (from scikit-learn>=1.0.0->scikeras) (3.1.0)\n",
            "Requirement already satisfied: scipy>=1.1.0 in /usr/local/lib/python3.7/dist-packages (from scikit-learn>=1.0.0->scikeras) (1.7.3)\n",
            "Requirement already satisfied: numpy>=1.14.6 in /usr/local/lib/python3.7/dist-packages (from scikit-learn>=1.0.0->scikeras) (1.21.6)\n",
            "Requirement already satisfied: joblib>=0.11 in /usr/local/lib/python3.7/dist-packages (from scikit-learn>=1.0.0->scikeras) (1.2.0)\n"
          ]
        }
      ]
    },
    {
      "cell_type": "code",
      "source": [
        "# import numpy as np \n",
        "# import matplotlib.pyplot as plt \n",
        "import tensorflow as tf\n",
        "from sklearn.model_selection import GridSearchCV\n",
        "# from tensorflow.keras.wrappers.scikit_learn import KerasClassifier\n",
        "from scikeras.wrappers import KerasClassifier\n",
        "# OS warning cure\n",
        "import os\n",
        "os.environ['TF_CPP_MIN_LOG_LEVEL'] = '3'\n",
        "\n",
        "# 데이터 세트 준비\n",
        "(train_images, train_labels), (test_images, test_labels) = tf.keras.datasets.mnist.load_data()\n",
        "\n",
        "train_images = train_images.reshape((60000, 28 * 28))\n",
        "train_images = train_images.astype('float32') / 255\n",
        "\n",
        "test_images = test_images.reshape((10000, 28 * 28))\n",
        "test_images = test_images.astype('float32') / 255\n",
        "\n",
        "train_labels = tf.keras.utils.to_categorical(train_labels)\n",
        "test_labels = tf.keras.utils.to_categorical(test_labels)\n",
        "                             \n",
        "# 신경망 모델 구축\n",
        "def build_model():\n",
        "    network = tf.keras.models.Sequential()\n",
        "    network.add(tf.keras.layers.Dense(512, activation='relu', input_shape=(28 * 28,)))\n",
        "    network.add(tf.keras.layers.Dense(10, activation='sigmoid'))\n",
        "\n",
        "    network.compile(optimizer='rmsprop',\n",
        "                loss='categorical_crossentropy',\n",
        "                metrics=['accuracy'])\n",
        "    return network\n",
        "\n",
        "# 하이퍼 매개변수 딕셔너리\n",
        "param_grid = {\n",
        "              'epochs':[1, 2, 3],\t# 에포크 수: 1, 2, 3\n",
        "              'batch_size':[32, 64, 100]\t# 배치 크기: 32, 64, 100\n",
        "             }\n",
        "\n",
        "# 케라스 모델을 scikeras에서 사용하도록 포장한다. \n",
        "model = KerasClassifier(model = build_model, verbose=1)\n",
        "\n",
        "## Elapsed time start\n",
        "import time\n",
        "start = time.time()\n",
        "\n",
        "# 그리드 검색\n",
        "gs = GridSearchCV(\n",
        "    estimator=model,\n",
        "    param_grid=param_grid, \n",
        "    cv=3, \n",
        "    # n_jobs=-1 # comment this line to avoid out-of-memory\n",
        ")\n",
        "\n",
        "# 그리드 검색 결과 출력\n",
        "grid_result = gs.fit(train_images, train_labels)\n",
        "\n",
        "## Elapsed time end\n",
        "end = time.time()\n",
        "print('Elapsed time:', end - start) # Elapsed time: 122.5, 189.5\n",
        "\n",
        "print(grid_result.best_score_) # 0.9725, 0.9711\n",
        "print(grid_result.best_params_) # {'batch_size': 64, 'epochs': 3}"
      ],
      "metadata": {
        "colab": {
          "base_uri": "https://localhost:8080/"
        },
        "id": "9NYlpqi6Defd",
        "outputId": "a8372dec-b88f-47f8-9887-a504b27cf603"
      },
      "execution_count": 24,
      "outputs": [
        {
          "output_type": "stream",
          "name": "stdout",
          "text": [
            "1250/1250 [==============================] - 4s 3ms/step - loss: 0.2409 - accuracy: 0.9285\n"
          ]
        },
        {
          "output_type": "stream",
          "name": "stderr",
          "text": [
            "WARNING:tensorflow:5 out of the last 5 calls to <function Model.make_predict_function.<locals>.predict_function at 0x7f399d7f1320> triggered tf.function retracing. Tracing is expensive and the excessive number of tracings could be due to (1) creating @tf.function repeatedly in a loop, (2) passing tensors with different shapes, (3) passing Python objects instead of tensors. For (1), please define your @tf.function outside of the loop. For (2), @tf.function has experimental_relax_shapes=True option that relaxes argument shapes that can avoid unnecessary retracing. For (3), please refer to https://www.tensorflow.org/guide/function#controlling_retracing and https://www.tensorflow.org/api_docs/python/tf/function for  more details.\n"
          ]
        },
        {
          "output_type": "stream",
          "name": "stdout",
          "text": [
            "625/625 [==============================] - 2s 2ms/step\n",
            "1250/1250 [==============================] - 6s 4ms/step - loss: 0.2386 - accuracy: 0.9300\n",
            "625/625 [==============================] - 1s 1ms/step\n",
            "1250/1250 [==============================] - 4s 3ms/step - loss: 0.2427 - accuracy: 0.9270\n",
            "625/625 [==============================] - 1s 1ms/step\n",
            "Epoch 1/2\n",
            "1250/1250 [==============================] - 4s 3ms/step - loss: 0.2399 - accuracy: 0.9302\n",
            "Epoch 2/2\n",
            "1250/1250 [==============================] - 3s 3ms/step - loss: 0.1060 - accuracy: 0.9683\n",
            "625/625 [==============================] - 1s 1ms/step\n",
            "Epoch 1/2\n",
            "1250/1250 [==============================] - 4s 3ms/step - loss: 0.2409 - accuracy: 0.9300\n",
            "Epoch 2/2\n",
            "1250/1250 [==============================] - 3s 3ms/step - loss: 0.1059 - accuracy: 0.9693\n",
            "625/625 [==============================] - 1s 1ms/step\n",
            "Epoch 1/2\n",
            "1250/1250 [==============================] - 4s 3ms/step - loss: 0.2422 - accuracy: 0.9278\n",
            "Epoch 2/2\n",
            "1250/1250 [==============================] - 4s 3ms/step - loss: 0.1015 - accuracy: 0.9699\n",
            "625/625 [==============================] - 1s 2ms/step\n",
            "Epoch 1/3\n",
            "1250/1250 [==============================] - 4s 3ms/step - loss: 0.2390 - accuracy: 0.9292\n",
            "Epoch 2/3\n",
            "1250/1250 [==============================] - 3s 3ms/step - loss: 0.1054 - accuracy: 0.9691\n",
            "Epoch 3/3\n",
            "1250/1250 [==============================] - 3s 3ms/step - loss: 0.0708 - accuracy: 0.9801\n",
            "625/625 [==============================] - 1s 1ms/step\n",
            "Epoch 1/3\n",
            "1250/1250 [==============================] - 4s 3ms/step - loss: 0.2399 - accuracy: 0.9298\n",
            "Epoch 2/3\n",
            "1250/1250 [==============================] - 3s 2ms/step - loss: 0.1048 - accuracy: 0.9688\n",
            "Epoch 3/3\n",
            "1250/1250 [==============================] - 3s 3ms/step - loss: 0.0723 - accuracy: 0.9788\n",
            "625/625 [==============================] - 1s 1ms/step\n",
            "Epoch 1/3\n",
            "1250/1250 [==============================] - 4s 3ms/step - loss: 0.2378 - accuracy: 0.9289\n",
            "Epoch 2/3\n",
            "1250/1250 [==============================] - 3s 3ms/step - loss: 0.1016 - accuracy: 0.9703\n",
            "Epoch 3/3\n",
            "1250/1250 [==============================] - 4s 3ms/step - loss: 0.0694 - accuracy: 0.9801\n",
            "625/625 [==============================] - 1s 1ms/step\n",
            "625/625 [==============================] - 2s 3ms/step - loss: 0.2665 - accuracy: 0.9220\n",
            "313/313 [==============================] - 0s 1ms/step\n",
            "625/625 [==============================] - 2s 3ms/step - loss: 0.2655 - accuracy: 0.9242\n",
            "313/313 [==============================] - 0s 1ms/step\n",
            "625/625 [==============================] - 2s 3ms/step - loss: 0.2627 - accuracy: 0.9224\n",
            "313/313 [==============================] - 1s 2ms/step\n",
            "Epoch 1/2\n",
            "625/625 [==============================] - 2s 3ms/step - loss: 0.2636 - accuracy: 0.9236\n",
            "Epoch 2/2\n",
            "625/625 [==============================] - 2s 3ms/step - loss: 0.1123 - accuracy: 0.9666\n",
            "313/313 [==============================] - 1s 2ms/step\n",
            "Epoch 1/2\n",
            "625/625 [==============================] - 2s 3ms/step - loss: 0.2627 - accuracy: 0.9239\n",
            "Epoch 2/2\n",
            "625/625 [==============================] - 2s 3ms/step - loss: 0.1110 - accuracy: 0.9666\n",
            "313/313 [==============================] - 0s 1ms/step\n",
            "Epoch 1/2\n",
            "625/625 [==============================] - 2s 3ms/step - loss: 0.2670 - accuracy: 0.9226\n",
            "Epoch 2/2\n",
            "625/625 [==============================] - 2s 3ms/step - loss: 0.1075 - accuracy: 0.9676\n",
            "313/313 [==============================] - 1s 1ms/step\n",
            "Epoch 1/3\n",
            "625/625 [==============================] - 2s 3ms/step - loss: 0.2656 - accuracy: 0.9224\n",
            "Epoch 2/3\n",
            "625/625 [==============================] - 2s 3ms/step - loss: 0.1122 - accuracy: 0.9657\n",
            "Epoch 3/3\n",
            "625/625 [==============================] - 2s 3ms/step - loss: 0.0732 - accuracy: 0.9779\n",
            "313/313 [==============================] - 0s 1ms/step\n",
            "Epoch 1/3\n",
            "625/625 [==============================] - 2s 3ms/step - loss: 0.2660 - accuracy: 0.9222\n",
            "Epoch 2/3\n",
            "625/625 [==============================] - 2s 3ms/step - loss: 0.1104 - accuracy: 0.9667\n",
            "Epoch 3/3\n",
            "625/625 [==============================] - 2s 3ms/step - loss: 0.0723 - accuracy: 0.9787\n",
            "313/313 [==============================] - 1s 2ms/step\n",
            "Epoch 1/3\n",
            "625/625 [==============================] - 2s 3ms/step - loss: 0.2667 - accuracy: 0.9214\n",
            "Epoch 2/3\n",
            "625/625 [==============================] - 2s 3ms/step - loss: 0.1104 - accuracy: 0.9669\n",
            "Epoch 3/3\n",
            "625/625 [==============================] - 2s 3ms/step - loss: 0.0716 - accuracy: 0.9785\n",
            "313/313 [==============================] - 1s 1ms/step\n",
            "400/400 [==============================] - 1s 3ms/step - loss: 0.2951 - accuracy: 0.9157\n",
            "200/200 [==============================] - 0s 2ms/step\n",
            "400/400 [==============================] - 1s 3ms/step - loss: 0.2895 - accuracy: 0.9158\n",
            "200/200 [==============================] - 0s 1ms/step\n",
            "400/400 [==============================] - 1s 3ms/step - loss: 0.2829 - accuracy: 0.9185\n",
            "200/200 [==============================] - 0s 2ms/step\n",
            "Epoch 1/2\n",
            "400/400 [==============================] - 1s 3ms/step - loss: 0.2901 - accuracy: 0.9153\n",
            "Epoch 2/2\n",
            "400/400 [==============================] - 1s 3ms/step - loss: 0.1212 - accuracy: 0.9642\n",
            "200/200 [==============================] - 0s 2ms/step\n",
            "Epoch 1/2\n",
            "400/400 [==============================] - 1s 3ms/step - loss: 0.2889 - accuracy: 0.9162\n",
            "Epoch 2/2\n",
            "400/400 [==============================] - 1s 3ms/step - loss: 0.1224 - accuracy: 0.9637\n",
            "200/200 [==============================] - 0s 2ms/step\n",
            "Epoch 1/2\n",
            "400/400 [==============================] - 1s 3ms/step - loss: 0.2908 - accuracy: 0.9155\n",
            "Epoch 2/2\n",
            "400/400 [==============================] - 1s 3ms/step - loss: 0.1199 - accuracy: 0.9650\n",
            "200/200 [==============================] - 0s 2ms/step\n",
            "Epoch 1/3\n",
            "400/400 [==============================] - 1s 3ms/step - loss: 0.2906 - accuracy: 0.9167\n",
            "Epoch 2/3\n",
            "400/400 [==============================] - 1s 3ms/step - loss: 0.1241 - accuracy: 0.9633\n",
            "Epoch 3/3\n",
            "400/400 [==============================] - 1s 3ms/step - loss: 0.0809 - accuracy: 0.9759\n",
            "200/200 [==============================] - 0s 2ms/step\n",
            "Epoch 1/3\n",
            "400/400 [==============================] - 1s 3ms/step - loss: 0.2846 - accuracy: 0.9161\n",
            "Epoch 2/3\n",
            "400/400 [==============================] - 1s 3ms/step - loss: 0.1200 - accuracy: 0.9638\n",
            "Epoch 3/3\n",
            "400/400 [==============================] - 1s 3ms/step - loss: 0.0789 - accuracy: 0.9764\n",
            "200/200 [==============================] - 0s 2ms/step\n",
            "Epoch 1/3\n",
            "400/400 [==============================] - 1s 3ms/step - loss: 0.2970 - accuracy: 0.9140\n",
            "Epoch 2/3\n",
            "400/400 [==============================] - 1s 3ms/step - loss: 0.1226 - accuracy: 0.9639\n",
            "Epoch 3/3\n",
            "400/400 [==============================] - 1s 3ms/step - loss: 0.0791 - accuracy: 0.9758\n",
            "200/200 [==============================] - 0s 2ms/step\n",
            "Epoch 1/3\n",
            "1875/1875 [==============================] - 5s 3ms/step - loss: 0.2032 - accuracy: 0.9402\n",
            "Epoch 2/3\n",
            "1875/1875 [==============================] - 5s 3ms/step - loss: 0.0916 - accuracy: 0.9740\n",
            "Epoch 3/3\n",
            "1875/1875 [==============================] - 5s 3ms/step - loss: 0.0662 - accuracy: 0.9807\n",
            "Elapsed time: 186.79257440567017\n",
            "0.9715666666666666\n",
            "{'batch_size': 32, 'epochs': 3}\n"
          ]
        }
      ]
    }
  ]
}