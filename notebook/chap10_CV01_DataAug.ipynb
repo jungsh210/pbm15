{
  "nbformat": 4,
  "nbformat_minor": 0,
  "metadata": {
    "colab": {
      "private_outputs": true,
      "provenance": [],
      "collapsed_sections": [],
      "authorship_tag": "ABX9TyO9RZiniTbK8Aqw1UD2CUnZ",
      "include_colab_link": true
    },
    "kernelspec": {
      "name": "python3",
      "display_name": "Python 3"
    },
    "language_info": {
      "name": "python"
    },
    "accelerator": "GPU",
    "gpuClass": "standard"
  },
  "cells": [
    {
      "cell_type": "markdown",
      "metadata": {
        "id": "view-in-github",
        "colab_type": "text"
      },
      "source": [
        "<a href=\"https://colab.research.google.com/github/jungsh210/pbm15/blob/main/notebook/chap10_CV01_DataAug.ipynb\" target=\"_parent\"><img src=\"https://colab.research.google.com/assets/colab-badge.svg\" alt=\"Open In Colab\"/></a>"
      ]
    },
    {
      "cell_type": "markdown",
      "source": [
        "## cifar10\n",
        "- CNN model\n",
        "- Data aigenmentation(데이터증대)\n",
        "- Save & load model\n"
      ],
      "metadata": {
        "id": "Ihbk-eJL1Lnx"
      }
    },
    {
      "cell_type": "code",
      "execution_count": null,
      "metadata": {
        "id": "BNwzjvoN1Fvv"
      },
      "outputs": [],
      "source": [
        "# import numpy as np\n",
        "import matplotlib.pyplot as plt\n",
        "# import tensorflow as tf\n",
        "from tensorflow import keras\n",
        "from tensorflow.keras import Sequential\n",
        "from tensorflow.keras.layers import Dense, Conv2D, MaxPooling2D, Flatten, Dropout\n",
        "import numpy as np\n",
        "\n",
        "# CFAR-10 데이터 세트를 적재한다.\n",
        "# 훈련 세트와 테스트 세트를 반환받는다. \n",
        "(X_train, y_train), (X_test, y_test) = keras.datasets.cifar10.load_data()\n",
        "\n",
        "# 두 번째 영상(트럭)을 화면에 표시한다. \n",
        "plt.figure()\n",
        "plt.imshow(X_train[1])\n",
        "plt.colorbar()\n",
        "plt.show()"
      ]
    },
    {
      "cell_type": "code",
      "source": [
        "# 영상의 픽셀 값을 0에서 1 사이로 변환한다. \n",
        "X_train = X_train/255.0\n",
        "X_test = X_test/255.0\n",
        "\n",
        "# 순차 모델을 구축한다. \n",
        "model = Sequential()\n",
        "model.add(Conv2D(64, activation = 'relu', kernel_size = (3,3 ), input_shape = (32, 32, 3)))\n",
        "model.add(MaxPooling2D(pool_size = (2, 2)))\n",
        "model.add(Conv2D(32, activation = 'relu', kernel_size = (3,3 )))\n",
        "model.add(Flatten())\n",
        "model.add(Dropout(0.5))\n",
        "model.add(Dense(80, activation = 'relu'))\n",
        "model.add(Dense(10, activation = 'softmax'))"
      ],
      "metadata": {
        "id": "Zcowaa5I2m06"
      },
      "execution_count": null,
      "outputs": []
    },
    {
      "cell_type": "code",
      "source": [
        "# 모델 구조 요약 - summary(), plot_model()\n",
        "model.summary()\n",
        "keras.utils.plot_model(model, show_shapes=True)"
      ],
      "metadata": {
        "id": "5-V12cJE3J3S"
      },
      "execution_count": null,
      "outputs": []
    },
    {
      "cell_type": "code",
      "source": [
        "pip install visualkeras"
      ],
      "metadata": {
        "id": "J6swKwQQ2yQ9"
      },
      "execution_count": null,
      "outputs": []
    },
    {
      "cell_type": "code",
      "source": [
        "!fc-list"
      ],
      "metadata": {
        "id": "gpumiUP53q5J"
      },
      "execution_count": null,
      "outputs": []
    },
    {
      "cell_type": "code",
      "source": [
        "# 모델 구조 시각화 - visualkareas.layered_view()\n",
        "import visualkeras\n",
        "from PIL import ImageFont\n",
        "font = ImageFont.truetype(\"LiberationMono-Bold.ttf\", 24)\n",
        "visualkeras.layered_view(model, \n",
        "                         to_file='./cnn2.png', \n",
        "                         legend=True, font=font, spacing=80, \n",
        "                         scale_xy=5, scale_z=1, one_dim_orientation='x')"
      ],
      "metadata": {
        "id": "78ZvqpFV3iqD"
      },
      "execution_count": null,
      "outputs": []
    },
    {
      "cell_type": "code",
      "source": [
        "# 모델을 컴파일한다. \n",
        "model.compile(optimizer = 'adam', loss = 'sparse_categorical_crossentropy',\n",
        "              metrics = ['accuracy'])\n",
        "# 모델을 훈련한다. \n",
        "history = model.fit(X_train, y_train, epochs=10, verbose=1, \n",
        "                  validation_split=0.3)"
      ],
      "metadata": {
        "id": "-O3oAdY92DoN"
      },
      "execution_count": null,
      "outputs": []
    },
    {
      "cell_type": "code",
      "source": [
        "# 손실값을 그래프로 그린다. \n",
        "plt.plot(history.history['loss'])\n",
        "plt.plot(history.history['val_loss'])\n",
        "plt.title('loss')\n",
        "plt.ylabel('loss')\n",
        "plt.xlabel('epoch')\n",
        "plt.legend(['loss', 'val_loss'], loc = 'lower right')\n",
        "plt.show()"
      ],
      "metadata": {
        "id": "Msm-x6Ti4eui"
      },
      "execution_count": null,
      "outputs": []
    },
    {
      "cell_type": "code",
      "source": [
        "# 정확도를 그래프로 그린다. \n",
        "plt.plot(history.history['accuracy'])\n",
        "plt.plot(history.history['val_accuracy'])\n",
        "plt.title('accuracy')\n",
        "plt.ylabel('accuracy')\n",
        "plt.xlabel('epoch')\n",
        "plt.legend(['accuracy', 'val_accuracy'], loc = 'lower right')\n",
        "plt.show()\n",
        "\n",
        "plt.figure()\n",
        "plt.imshow(X_test[0])\n",
        "y_pred = model.predict(X_test)\n",
        "print(\"정답=\", y_test[0])\n",
        "print(\"예측값=\", y_pred[0], np.argmax(y_pred[0]))\n",
        "\n",
        "#################################\n",
        "# Evaluate the model\n",
        "#################################\n",
        "model.evaluate(X_test,y_test)\n",
        "# loss: 1.1689 - accuracy: 0.6468\n",
        "# loss: 0.9207 - accuracy: 0.6799    # with dropout: 0.5"
      ],
      "metadata": {
        "id": "aATtLmpS4iS1"
      },
      "execution_count": null,
      "outputs": []
    },
    {
      "cell_type": "code",
      "source": [
        "#############################################\n",
        "# More training graphs\n",
        "# More graphs of loss and accuracy\n",
        "# import matplotlib.pyplot as plt\n",
        "# import numpy as np\n",
        "\n",
        "history_dict = history.history \n",
        "loss = history_dict['loss']\n",
        "val_loss = history_dict['val_loss']\n",
        "\n",
        "epochs = range(1, len(loss) + 1)\n",
        "\n",
        "plt.figure(figsize=(14, 4))\n",
        "\n",
        "plt.subplot(1,2,1)\n",
        "plt.plot(epochs, loss, 'go-', label='Training Loss')\n",
        "plt.plot(epochs, val_loss, 'bd', label='Validation Loss')\n",
        "plt.plot(np.argmin(np.array(val_loss))+1,val_loss[np.argmin(np.array(val_loss))], 'r*', ms=12)\n",
        "plt.title('Training and Validation Loss, min: ' + str(np.round(val_loss[np.argmin(np.array(val_loss))],4)))\n",
        "plt.xlabel('Epochs')\n",
        "plt.ylabel('Loss')\n",
        "plt.legend()\n",
        "\n",
        "acc = history_dict['accuracy']\n",
        "val_acc = history_dict['val_accuracy']\n",
        "\n",
        "epochs = range(1, len(loss) + 1)\n",
        "\n",
        "plt.subplot(1,2,2)\n",
        "plt.plot(epochs, acc, 'go-', label='Training Accuracy') #, c='blue')\n",
        "plt.plot(epochs, val_acc, 'bd', label='Validation Accuracy') #, c='red')\n",
        "plt.plot(np.argmax(np.array(val_acc))+1,val_acc[np.argmax(np.array(val_acc))], 'r*', ms=12)\n",
        "plt.title('Training and Validation Accuracy, max: ' + str(np.round(val_acc[np.argmax(np.array(val_acc))],4)))\n",
        "plt.xlabel('Epochs')\n",
        "plt.ylabel('Accuracy')\n",
        "plt.legend()\n",
        "plt.show()"
      ],
      "metadata": {
        "id": "ZNq6Q_zI42Pf"
      },
      "execution_count": null,
      "outputs": []
    },
    {
      "cell_type": "code",
      "source": [
        "#\n",
        "# Test of model trained\n",
        "#\n",
        "class_names = ['airplane', 'automobile', 'bird', 'cat', 'deer', 'dog', 'frog', 'horse', 'ship', 'truck']\n",
        "\n",
        "def plot_pred(i, predictions_array, true_label, img):\n",
        "    predictions_array, true_label, img = predictions_array[i], true_label[i:i+1], img[i]\n",
        "    plt.grid(False)\n",
        "    plt.title(class_names[true_label[0][0]])\n",
        "    plt.xticks([])\n",
        "    plt.yticks([])\n",
        "\n",
        "    plt.imshow(img) #np.squeeze(img, 2))\n",
        "\n",
        "    predicted_label = np.argmax(predictions_array)\n",
        "    if predicted_label == true_label:   # np.argmax(true_label)\n",
        "       print(\"Test image-%d: Classified correctly\" % i)\n",
        "    else:\n",
        "       print(\"Test image-%d: Wrong classification\" % i)\n",
        "\n",
        "\n",
        "def plot_bar(i, predictions_array, true_label):\n",
        "    predictions_array, true_label = predictions_array[i], true_label[i]\n",
        "    plt.grid(False)\n",
        "    plt.yticks([])\n",
        "    plt.xticks(np.arange(10), class_names, rotation=40)\n",
        "\n",
        "    thisplot = plt.bar(range(10), predictions_array, color='grey')\n",
        "    plt.ylim([0, 1])\n",
        "    predicted_label = np.argmax(predictions_array)\n",
        "\n",
        "    if predicted_label == true_label:  # np.argmax(true_label):\n",
        "        color = 'green'\n",
        "    else:\n",
        "        color = 'red'\n",
        "\n",
        "    thisplot[predicted_label].set_color(color)\n",
        "\n",
        "\n",
        "predictions = model.predict(X_test)\n",
        "np.random.seed(None)\n",
        "num = np.random.randint(0, len(y_test))\n",
        "\n",
        "plt.figure(figsize=(7, 4))\n",
        "plt.subplot(2, 2, (1, 2))\n",
        "plot_pred(num, predictions, y_test, X_test)\n",
        "plt.subplot(2, 2, (3,4))\n",
        "plot_bar(num, predictions,  y_test)\n",
        "plt.title(\"Green: True, Red: False\")\n",
        "plt.show()"
      ],
      "metadata": {
        "id": "S49Pp5-B5E3C"
      },
      "execution_count": null,
      "outputs": []
    },
    {
      "cell_type": "markdown",
      "source": [
        "##DataAug\n",
        "- Data aigenmentation(데이터증대)"
      ],
      "metadata": {
        "id": "ORmCRoSD6vPh"
      }
    },
    {
      "cell_type": "code",
      "source": [
        "#\n",
        "# https://machinelearningmastery.com/image-augmentation-deep-learning-keras/\n",
        "#\n",
        "import matplotlib.pyplot as plt\n",
        "from numpy import expand_dims\n",
        "from tensorflow.keras.preprocessing.image import load_img, img_to_array\n",
        "\n",
        "image = load_img(\"dog.jpg\")\n",
        "array = img_to_array(image)\n",
        "array.shape\n",
        "sample = expand_dims(array, 0)  # batch image\n",
        "sample.shape\n",
        "\n",
        "from tensorflow.keras.preprocessing.image import ImageDataGenerator\n",
        "\n",
        "datagen = ImageDataGenerator(rescale = 1./255,\n",
        "    rotation_range=90, brightness_range=[0.8, 1.0],\n",
        "    width_shift_range=0.2, zoom_range=[0.8, 1.2],\n",
        "    height_shift_range=0.2)\n",
        "\n",
        "obj = datagen.flow(sample, batch_size=1)\n",
        "\n",
        "fig = plt.figure(figsize=(20,5))\n",
        "for i in range(8):\n",
        "    plt.subplot(1,8,i+1)\n",
        "    image = obj.next()\n",
        "    # print(image.shape)\n",
        "    plt.imshow(image[0])\n"
      ],
      "metadata": {
        "id": "P_wHX90560nH"
      },
      "execution_count": null,
      "outputs": []
    },
    {
      "cell_type": "markdown",
      "source": [
        "## 모델의 저장과 복원\n",
        "- model save(...)\n",
        "- model2 = load_model(...)\n",
        "\n",
        "## model file type\n",
        "- h5\n",
        "- hdf5"
      ],
      "metadata": {
        "id": "R12AwkLE8zVo"
      }
    },
    {
      "cell_type": "code",
      "source": [
        "# import numpy as np\n",
        "import tensorflow as tf\n",
        "\n",
        "test_input = np.random.random((128, 32))\n",
        "test_target = np.random.random((128, 1))\n",
        "\n",
        "inputs = tf.keras.Input(shape=(32,))\n",
        "outputs = tf.keras.layers.Dense(1)(inputs)\n",
        "model = tf.keras.Model(inputs, outputs)\n",
        "model.compile(optimizer=\"adam\", loss=\"mean_squared_error\")\n",
        "model.fit(test_input, test_target, epochs=3)\n",
        "\n",
        "model.save(\"my_model\")"
      ],
      "metadata": {
        "id": "akS_jXRj82ip"
      },
      "execution_count": null,
      "outputs": []
    },
    {
      "cell_type": "code",
      "source": [
        "model.save('mymodel.hdf5')"
      ],
      "metadata": {
        "id": "q4nbDoHz-D0Y"
      },
      "execution_count": null,
      "outputs": []
    },
    {
      "cell_type": "code",
      "source": [
        "saved_model = tf.keras.models.load_model(\"mymodel.hdf5\")\n",
        "saved_model.fit(test_input, test_target, epochs=3)"
      ],
      "metadata": {
        "id": "km53eXQ0923q"
      },
      "execution_count": null,
      "outputs": []
    },
    {
      "cell_type": "code",
      "source": [
        "saved_model.save('mymodel2.hdf5')"
      ],
      "metadata": {
        "id": "PSGn5fVy-mVI"
      },
      "execution_count": null,
      "outputs": []
    }
  ]
}