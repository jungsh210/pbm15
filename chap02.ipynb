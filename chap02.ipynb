{
  "cells": [
    {
      "cell_type": "markdown",
      "metadata": {
        "id": "view-in-github",
        "colab_type": "text"
      },
      "source": [
        "<a href=\"https://colab.research.google.com/github/jungsh210/pbm15/blob/main/chap02.ipynb\" target=\"_parent\"><img src=\"https://colab.research.google.com/assets/colab-badge.svg\" alt=\"Open In Colab\"/></a>"
      ]
    },
    {
      "cell_type": "markdown",
      "source": [
        "#####3.14 * 10 * 10 ------> 314.0"
      ],
      "metadata": {
        "id": "ydJVsLV8Q04O"
      }
    },
    {
      "cell_type": "code",
      "execution_count": null,
      "metadata": {
        "id": "MsL7cYIQXdwX",
        "outputId": "f5207d2c-5427-4b2c-b7b9-09af245a97c9",
        "colab": {
          "base_uri": "https://localhost:8080/"
        }
      },
      "outputs": [
        {
          "output_type": "execute_result",
          "data": {
            "text/plain": [
              "314.0"
            ]
          },
          "metadata": {},
          "execution_count": 1
        }
      ],
      "source": [
        "3.14 * 10 * 10   "
      ]
    },
    {
      "cell_type": "markdown",
      "source": [
        "#####3.14 * 10**2 ----> 314.0\n",
        "- 10**2 : 10의 제곱(100)"
      ],
      "metadata": {
        "id": "_Y5eDOAQdyDC"
      }
    },
    {
      "cell_type": "code",
      "execution_count": 1,
      "metadata": {
        "id": "G9-bf8gYXdwZ",
        "colab": {
          "base_uri": "https://localhost:8080/"
        },
        "outputId": "c04dcbe3-d115-45ed-b306-8fe3fbd6d24b"
      },
      "outputs": [
        {
          "output_type": "execute_result",
          "data": {
            "text/plain": [
              "314.0"
            ]
          },
          "metadata": {},
          "execution_count": 1
        }
      ],
      "source": [
        "3.14 * 10**2"
      ]
    },
    {
      "cell_type": "markdown",
      "source": [
        "#####type(10) ---> int\n",
        "- 10 : 숫자(int)"
      ],
      "metadata": {
        "id": "G-5vtAX4eI_N"
      }
    },
    {
      "cell_type": "code",
      "execution_count": 2,
      "metadata": {
        "id": "NRlPZOYXXdwZ",
        "colab": {
          "base_uri": "https://localhost:8080/"
        },
        "outputId": "05d06a7d-1721-4cf1-9b1f-776e81f6a423"
      },
      "outputs": [
        {
          "output_type": "execute_result",
          "data": {
            "text/plain": [
              "int"
            ]
          },
          "metadata": {},
          "execution_count": 2
        }
      ],
      "source": [
        "type(10)"
      ]
    },
    {
      "cell_type": "markdown",
      "source": [
        "#####type(3.14) ---> float\n",
        "- 3.14 : 실수형(float)"
      ],
      "metadata": {
        "id": "_zz-u7g6eQWX"
      }
    },
    {
      "cell_type": "code",
      "execution_count": 3,
      "metadata": {
        "id": "hk1LNf7FXdwa",
        "colab": {
          "base_uri": "https://localhost:8080/"
        },
        "outputId": "5cf9dfd4-d81c-484a-89ac-0a4188c3523a"
      },
      "outputs": [
        {
          "output_type": "execute_result",
          "data": {
            "text/plain": [
              "float"
            ]
          },
          "metadata": {},
          "execution_count": 3
        }
      ],
      "source": [
        "type(3.14)"
      ]
    },
    {
      "cell_type": "markdown",
      "source": [
        "#####type(\"python\")  -----> str\n",
        "- \"python\" : 문자형(string)"
      ],
      "metadata": {
        "id": "4pOl58SmeZx1"
      }
    },
    {
      "cell_type": "code",
      "execution_count": 4,
      "metadata": {
        "id": "LdR_JGn-Xdwa",
        "colab": {
          "base_uri": "https://localhost:8080/"
        },
        "outputId": "859f6a58-b5ec-468a-a402-6a6accbddbab"
      },
      "outputs": [
        {
          "output_type": "execute_result",
          "data": {
            "text/plain": [
              "str"
            ]
          },
          "metadata": {},
          "execution_count": 4
        }
      ],
      "source": [
        "type(\"python\")"
      ]
    },
    {
      "cell_type": "markdown",
      "source": [
        "##### r = 20, Pl = 3.14, area = PI * r**2\n",
        "- area = 3.14* 20**2 = 3.14 * 400 = 1256.0\n",
        "- r에 20이 대입, PI에는 3.14가 대입되면서 area가 계산"
      ],
      "metadata": {
        "id": "e8xY0auKemRh"
      }
    },
    {
      "cell_type": "code",
      "execution_count": 5,
      "metadata": {
        "id": "7UDlNtaAXdwa"
      },
      "outputs": [],
      "source": [
        " r = 20"
      ]
    },
    {
      "cell_type": "code",
      "execution_count": 6,
      "metadata": {
        "id": "drF9Cp1-Xdwb"
      },
      "outputs": [],
      "source": [
        "PI = 3.14\t\t# 원주율 정의"
      ]
    },
    {
      "cell_type": "code",
      "execution_count": 7,
      "metadata": {
        "id": "SQFbN4wUXdwb"
      },
      "outputs": [],
      "source": [
        "area = PI * r**2"
      ]
    },
    {
      "cell_type": "code",
      "execution_count": 8,
      "metadata": {
        "id": "33Fg7SKVXdwc",
        "colab": {
          "base_uri": "https://localhost:8080/"
        },
        "outputId": "afe9914d-206c-4430-c6f7-19cca5523462"
      },
      "outputs": [
        {
          "output_type": "execute_result",
          "data": {
            "text/plain": [
              "1256.0"
            ]
          },
          "metadata": {},
          "execution_count": 8
        }
      ],
      "source": [
        "area"
      ]
    },
    {
      "cell_type": "markdown",
      "source": [
        "#####ist = [10,20,30,40,50]  ----> list 안에 10,20,30,40,50이 담김\n",
        "lst ----> [10,20,30,40,50]이 출력"
      ],
      "metadata": {
        "id": "4Xgv1ZkNfWzI"
      }
    },
    {
      "cell_type": "code",
      "execution_count": 9,
      "metadata": {
        "id": "79G8btJnXdwc"
      },
      "outputs": [],
      "source": [
        "lst = [ 10, 20, 30, 40, 50]\t\t# 리스트 정의"
      ]
    },
    {
      "cell_type": "code",
      "execution_count": 10,
      "metadata": {
        "id": "z8YuhI4KXdwc",
        "colab": {
          "base_uri": "https://localhost:8080/"
        },
        "outputId": "ba35df89-dac5-4358-d927-2ecec71ab9a6"
      },
      "outputs": [
        {
          "output_type": "execute_result",
          "data": {
            "text/plain": [
              "[10, 20, 30, 40, 50]"
            ]
          },
          "metadata": {},
          "execution_count": 10
        }
      ],
      "source": [
        "lst"
      ]
    },
    {
      "cell_type": "markdown",
      "source": [
        "#####lst[2] : lst 리스트의 2번째 요소 출력\n",
        "#####lst[2] -----> 30 출력"
      ],
      "metadata": {
        "id": "Dx6016iZfr54"
      }
    },
    {
      "cell_type": "code",
      "execution_count": 11,
      "metadata": {
        "id": "rPZOFfnCXdwd",
        "colab": {
          "base_uri": "https://localhost:8080/"
        },
        "outputId": "34184d2b-0d48-43ec-c7e9-05d69c15381d"
      },
      "outputs": [
        {
          "output_type": "execute_result",
          "data": {
            "text/plain": [
              "30"
            ]
          },
          "metadata": {},
          "execution_count": 11
        }
      ],
      "source": [
        "lst[2] \t\t\t\t# 리스트의 요소 접근"
      ]
    },
    {
      "cell_type": "markdown",
      "source": [
        "#####lst[2] = 90 : lst 리스트의 2번째 요소 값을 90으로 변경\n",
        "#####lst ----> [10,20,90,40,50] 출력"
      ],
      "metadata": {
        "id": "u0HvBgOyf3aE"
      }
    },
    {
      "cell_type": "code",
      "execution_count": 12,
      "metadata": {
        "id": "YOEgZ-BvXdwd"
      },
      "outputs": [],
      "source": [
        "lst[2] = 90\t\t\t# 세 번째 요소를 90으로 변경"
      ]
    },
    {
      "cell_type": "code",
      "execution_count": 13,
      "metadata": {
        "id": "IZjzz1kMXdwd",
        "colab": {
          "base_uri": "https://localhost:8080/"
        },
        "outputId": "4b25c97a-efd4-4fc3-b697-081fab8d5cd2"
      },
      "outputs": [
        {
          "output_type": "execute_result",
          "data": {
            "text/plain": [
              "[10, 20, 90, 40, 50]"
            ]
          },
          "metadata": {},
          "execution_count": 13
        }
      ],
      "source": [
        "lst"
      ]
    },
    {
      "cell_type": "markdown",
      "source": [
        "#####len(lst) : lst 리스트의 길이 출력\n",
        "#####len(lst) -----> 5 출력"
      ],
      "metadata": {
        "id": "wVSfLxgigDVc"
      }
    },
    {
      "cell_type": "code",
      "execution_count": 14,
      "metadata": {
        "id": "h8XUsiXiXdwe",
        "colab": {
          "base_uri": "https://localhost:8080/"
        },
        "outputId": "e5683123-9a38-483a-bfff-e8a6282d50e1"
      },
      "outputs": [
        {
          "output_type": "execute_result",
          "data": {
            "text/plain": [
              "5"
            ]
          },
          "metadata": {},
          "execution_count": 14
        }
      ],
      "source": [
        "len(lst)"
      ]
    },
    {
      "cell_type": "markdown",
      "source": [
        "#####lst[0:3] : lst 리스트의 0번째 요소부터 2번째 요소까지 출력\n",
        "#####lst[0:3] -----> [10,20,90]"
      ],
      "metadata": {
        "id": "vGC7HPk5gLai"
      }
    },
    {
      "cell_type": "code",
      "execution_count": 15,
      "metadata": {
        "id": "gOajeR4dXdwe",
        "colab": {
          "base_uri": "https://localhost:8080/"
        },
        "outputId": "a3c53880-388d-48be-8d63-07addf282c15"
      },
      "outputs": [
        {
          "output_type": "execute_result",
          "data": {
            "text/plain": [
              "[10, 20, 90]"
            ]
          },
          "metadata": {},
          "execution_count": 15
        }
      ],
      "source": [
        "lst[0:3]"
      ]
    },
    {
      "cell_type": "markdown",
      "source": [
        "#####lst[2:] : lst 리스트의 2번째 요소부터 끝까지 출력\n",
        "#####lst[2:] -----> [90,40,50]"
      ],
      "metadata": {
        "id": "wrG_qZamgZfk"
      }
    },
    {
      "cell_type": "code",
      "execution_count": 16,
      "metadata": {
        "id": "iOAF6ffGXdwe",
        "colab": {
          "base_uri": "https://localhost:8080/"
        },
        "outputId": "910914ca-f2e1-4452-87cc-703724aba63e"
      },
      "outputs": [
        {
          "output_type": "execute_result",
          "data": {
            "text/plain": [
              "[90, 40, 50]"
            ]
          },
          "metadata": {},
          "execution_count": 16
        }
      ],
      "source": [
        "lst[2:]\t"
      ]
    },
    {
      "cell_type": "markdown",
      "source": [
        "#####lst[:3] : lst 리스트의 0번째 요소부터 2번째 요소까지 출력\n",
        "#####lst[:3] -----> [10,20,90]"
      ],
      "metadata": {
        "id": "aIGSv2QggjaQ"
      }
    },
    {
      "cell_type": "code",
      "execution_count": 17,
      "metadata": {
        "id": "BrCdI6IhXdwe",
        "colab": {
          "base_uri": "https://localhost:8080/"
        },
        "outputId": "7cf15985-1e7a-4807-93fd-1e8621a60207"
      },
      "outputs": [
        {
          "output_type": "execute_result",
          "data": {
            "text/plain": [
              "[10, 20, 90]"
            ]
          },
          "metadata": {},
          "execution_count": 17
        }
      ],
      "source": [
        "lst[:3]"
      ]
    },
    {
      "cell_type": "markdown",
      "source": [
        "#####lst[:-1] : lst 리스트의 0번째 요소부터 맨 마지막 앞 요소까지 출력\n",
        "#####lst[:-1] -----> [10,20,90,40]"
      ],
      "metadata": {
        "id": "BIAaCT_ugqF3"
      }
    },
    {
      "cell_type": "code",
      "execution_count": 18,
      "metadata": {
        "id": "t_oVOj4XXdwf",
        "colab": {
          "base_uri": "https://localhost:8080/"
        },
        "outputId": "16cb8c22-d140-4b30-8a71-78c81838523b"
      },
      "outputs": [
        {
          "output_type": "execute_result",
          "data": {
            "text/plain": [
              "[10, 20, 90, 40]"
            ]
          },
          "metadata": {},
          "execution_count": 18
        }
      ],
      "source": [
        "lst[:-1]"
      ]
    },
    {
      "cell_type": "markdown",
      "source": [
        "#####car = {'HP':200, 'make': \"BNW\"} : car이라는 딕셔너리 정의\n",
        "- 'HP': key/ 200: value/'make' : key/\"BMW\":value\n",
        "#####car['HP'] ----> 200 출력"
      ],
      "metadata": {
        "id": "pcRPnzE_gyR_"
      }
    },
    {
      "cell_type": "code",
      "execution_count": 19,
      "metadata": {
        "id": "CtIiuMZDXdwf"
      },
      "outputs": [],
      "source": [
        " car = { 'HP':200, 'make': \"BNW\" }\t# 딕셔너리 정의"
      ]
    },
    {
      "cell_type": "code",
      "execution_count": 20,
      "metadata": {
        "id": "5fWtRJTMXdwf",
        "colab": {
          "base_uri": "https://localhost:8080/"
        },
        "outputId": "46853274-bbde-46c7-bd86-33af7b76a349"
      },
      "outputs": [
        {
          "output_type": "execute_result",
          "data": {
            "text/plain": [
              "200"
            ]
          },
          "metadata": {},
          "execution_count": 20
        }
      ],
      "source": [
        "car['HP']"
      ]
    },
    {
      "cell_type": "markdown",
      "source": [
        "#####car['color']=\"white\" : car 딕셔너리에 color 항목 추가\n",
        "- 'color:key/\"white\": value\n",
        "#####car ----> {'HP':200, 'make':\"BMW\", 'color':'white'} 출력"
      ],
      "metadata": {
        "id": "oX2wEvKXhWQd"
      }
    },
    {
      "cell_type": "code",
      "execution_count": 21,
      "metadata": {
        "id": "ZKgp_zX3Xdwf"
      },
      "outputs": [],
      "source": [
        "car['color'] = \"white\""
      ]
    },
    {
      "cell_type": "code",
      "execution_count": 22,
      "metadata": {
        "id": "1bRDpyiMXdwg",
        "colab": {
          "base_uri": "https://localhost:8080/"
        },
        "outputId": "6cab6a09-032f-48a8-dbc9-a8a01e6e0ad0"
      },
      "outputs": [
        {
          "output_type": "execute_result",
          "data": {
            "text/plain": [
              "{'HP': 200, 'make': 'BNW', 'color': 'white'}"
            ]
          },
          "metadata": {},
          "execution_count": 22
        }
      ],
      "source": [
        "car"
      ]
    },
    {
      "cell_type": "code",
      "execution_count": 23,
      "metadata": {
        "id": "4XnEFpZvXdwg"
      },
      "outputs": [],
      "source": [
        "temp = -10"
      ]
    },
    {
      "cell_type": "markdown",
      "source": [
        "#####temp의 값이 0보다 작으면 \"영하입니다.\"가 출력, 0보다 크면 \"영상입니다.\"가 출력\n",
        "##### temp = -10 -----> 영하입니다. 출력"
      ],
      "metadata": {
        "id": "-p6oXHf2hwoP"
      }
    },
    {
      "cell_type": "code",
      "execution_count": 24,
      "metadata": {
        "id": "MnOLgKuOXdwg",
        "colab": {
          "base_uri": "https://localhost:8080/"
        },
        "outputId": "59716874-24c6-42fa-dbb6-901e38a653a2"
      },
      "outputs": [
        {
          "output_type": "stream",
          "name": "stdout",
          "text": [
            "영하입니다.\n"
          ]
        }
      ],
      "source": [
        "if temp < 0 :\n",
        "    print(\"영하입니다.\")\t\n",
        "else:\n",
        "    print(\"영상입니다.\")"
      ]
    },
    {
      "cell_type": "markdown",
      "source": [
        "##### [1,2,3,4,5]가 i 안에 삽입\n",
        "- end=\"   \" : i 안에 있는 숫자 사이에 공백 삽입\n",
        "##### i ----> 1 2 3 4 5"
      ],
      "metadata": {
        "id": "eW8sbbhTiFM-"
      }
    },
    {
      "cell_type": "code",
      "execution_count": 25,
      "metadata": {
        "id": "4ikLAIKKXdwg",
        "colab": {
          "base_uri": "https://localhost:8080/"
        },
        "outputId": "1cd6eac8-aeba-4709-f0dd-19e59d8d7e7b"
      },
      "outputs": [
        {
          "output_type": "stream",
          "name": "stdout",
          "text": [
            "1 2 3 4 5 "
          ]
        }
      ],
      "source": [
        "for i in [1, 2, 3, 4, 5] :\n",
        "    print(i, end=\" \")"
      ]
    },
    {
      "cell_type": "markdown",
      "source": [
        "#####def sayHello():  ----> sayHello() 함수 정의\n",
        "##### sayHello() ----> Hello! 출력"
      ],
      "metadata": {
        "id": "Ouap3RDsjAj5"
      }
    },
    {
      "cell_type": "code",
      "execution_count": 26,
      "metadata": {
        "id": "Qw5wjc29Xdwh"
      },
      "outputs": [],
      "source": [
        "def sayHello():\n",
        "    print(\"Hello!\")"
      ]
    },
    {
      "cell_type": "code",
      "execution_count": 27,
      "metadata": {
        "id": "p13glvxEXdwh",
        "colab": {
          "base_uri": "https://localhost:8080/"
        },
        "outputId": "228935b3-0093-404e-888d-e734e3efe7e9"
      },
      "outputs": [
        {
          "output_type": "stream",
          "name": "stdout",
          "text": [
            "Hello!\n"
          ]
        }
      ],
      "source": [
        "sayHello()"
      ]
    },
    {
      "cell_type": "code",
      "execution_count": 28,
      "metadata": {
        "id": "VHaMOTjfXdwh"
      },
      "outputs": [],
      "source": [
        "class Person:\n",
        "  def __init__(self, name, age):\n",
        "    self.name = name\n",
        "    self.age = age\n",
        "\n",
        "  def sayHello(self):\n",
        "    print(\"Hello 나의 이름은 \" + self.name)"
      ]
    },
    {
      "cell_type": "code",
      "execution_count": 29,
      "metadata": {
        "id": "997tPr2EXdwh",
        "colab": {
          "base_uri": "https://localhost:8080/"
        },
        "outputId": "2417baa5-ef3f-4f2d-efd3-4d1ee211c3c2"
      },
      "outputs": [
        {
          "output_type": "stream",
          "name": "stdout",
          "text": [
            "Hello 나의 이름은 John\n"
          ]
        }
      ],
      "source": [
        "p1 = Person(\"John\", 36)\n",
        "p1.sayHello()"
      ]
    },
    {
      "cell_type": "code",
      "execution_count": null,
      "metadata": {
        "id": "uRo34758Xdwi"
      },
      "outputs": [],
      "source": []
    }
  ],
  "metadata": {
    "kernelspec": {
      "display_name": "Python 3",
      "language": "python",
      "name": "python3"
    },
    "language_info": {
      "codemirror_mode": {
        "name": "ipython",
        "version": 3
      },
      "file_extension": ".py",
      "mimetype": "text/x-python",
      "name": "python",
      "nbconvert_exporter": "python",
      "pygments_lexer": "ipython3",
      "version": "3.8.5"
    },
    "colab": {
      "provenance": [],
      "collapsed_sections": [],
      "include_colab_link": true
    }
  },
  "nbformat": 4,
  "nbformat_minor": 0
}